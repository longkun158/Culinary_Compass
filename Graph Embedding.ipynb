{
 "cells": [
  {
   "cell_type": "markdown",
   "metadata": {},
   "source": [
    "### This file connects embeddings information from ingredients of Flavors and Menu to Pre-aggrerated Embedding from Graph Neural Network. This is the pre work needed to build the recommendation agorithm."
   ]
  },
  {
   "cell_type": "code",
   "execution_count": 33,
   "metadata": {
    "id": "BCYYYrUpzZBf"
   },
   "outputs": [],
   "source": [
    "import numpy as np\n",
    "import pandas as pd\n",
    "import zipfile\n",
    "import random\n",
    "import pickle"
   ]
  },
  {
   "cell_type": "markdown",
   "metadata": {},
   "source": [
    "# Data loading"
   ]
  },
  {
   "cell_type": "code",
   "execution_count": 34,
   "metadata": {
    "colab": {
     "base_uri": "https://localhost:8080/",
     "height": 206
    },
    "id": "ihjEty8XGlKR",
    "outputId": "4201f9e6-9969-4b59-c6e0-20810e32753a"
   },
   "outputs": [
    {
     "data": {
      "text/html": [
       "<div>\n",
       "<style scoped>\n",
       "    .dataframe tbody tr th:only-of-type {\n",
       "        vertical-align: middle;\n",
       "    }\n",
       "\n",
       "    .dataframe tbody tr th {\n",
       "        vertical-align: top;\n",
       "    }\n",
       "\n",
       "    .dataframe thead th {\n",
       "        text-align: right;\n",
       "    }\n",
       "</style>\n",
       "<table border=\"1\" class=\"dataframe\">\n",
       "  <thead>\n",
       "    <tr style=\"text-align: right;\">\n",
       "      <th></th>\n",
       "      <th>Unnamed: 0</th>\n",
       "      <th>restaurant_id</th>\n",
       "      <th>menu_type</th>\n",
       "      <th>section</th>\n",
       "      <th>menu_item</th>\n",
       "      <th>description</th>\n",
       "      <th>price</th>\n",
       "      <th>dietary_prefences</th>\n",
       "      <th>source</th>\n",
       "      <th>image_name</th>\n",
       "      <th>ingredients</th>\n",
       "      <th>ingredients_mapped</th>\n",
       "    </tr>\n",
       "  </thead>\n",
       "  <tbody>\n",
       "    <tr>\n",
       "      <th>0</th>\n",
       "      <td>0</td>\n",
       "      <td>laylak_toronto</td>\n",
       "      <td>NaN</td>\n",
       "      <td>Cold Dips</td>\n",
       "      <td>Hummus</td>\n",
       "      <td>Chickpea tahini lemon</td>\n",
       "      <td>17</td>\n",
       "      <td>NaN</td>\n",
       "      <td>NaN</td>\n",
       "      <td>NaN</td>\n",
       "      <td>['chickpeas', 'tahini', 'lemon juice', 'olive ...</td>\n",
       "      <td>chickpea, tahini, lemon_juice, olive_oil, garl...</td>\n",
       "    </tr>\n",
       "    <tr>\n",
       "      <th>1</th>\n",
       "      <td>1</td>\n",
       "      <td>laylak_toronto</td>\n",
       "      <td>NaN</td>\n",
       "      <td>Cold Dips</td>\n",
       "      <td>Baba Ghanoush</td>\n",
       "      <td>Fire roasted eggplant tahini lemon</td>\n",
       "      <td>17</td>\n",
       "      <td>NaN</td>\n",
       "      <td>NaN</td>\n",
       "      <td>NaN</td>\n",
       "      <td>['eggplant', 'tahini', 'lemon juice', 'olive o...</td>\n",
       "      <td>eggplant, tahini, lemon_juice, olive_oil, garl...</td>\n",
       "    </tr>\n",
       "    <tr>\n",
       "      <th>2</th>\n",
       "      <td>2</td>\n",
       "      <td>laylak_toronto</td>\n",
       "      <td>NaN</td>\n",
       "      <td>Cold Dips</td>\n",
       "      <td>Mohamarah</td>\n",
       "      <td>Fire roasted red pepper, Aleppo pepper, walnut</td>\n",
       "      <td>17</td>\n",
       "      <td>NaN</td>\n",
       "      <td>NaN</td>\n",
       "      <td>NaN</td>\n",
       "      <td>['roasted red peppers', 'aleppo pepper', 'waln...</td>\n",
       "      <td>roasted_red_pepper, aleppo_pepper, walnut, bre...</td>\n",
       "    </tr>\n",
       "    <tr>\n",
       "      <th>3</th>\n",
       "      <td>3</td>\n",
       "      <td>laylak_toronto</td>\n",
       "      <td>NaN</td>\n",
       "      <td>Cold Dips</td>\n",
       "      <td>Labneh Bel Toum</td>\n",
       "      <td>Strained yogurt mint garlic</td>\n",
       "      <td>17</td>\n",
       "      <td>NaN</td>\n",
       "      <td>NaN</td>\n",
       "      <td>NaN</td>\n",
       "      <td>['strained yogurt labneh', 'fresh mint', 'garl...</td>\n",
       "      <td>strained yogurt labneh, of_fresh_mint, garlic,...</td>\n",
       "    </tr>\n",
       "    <tr>\n",
       "      <th>4</th>\n",
       "      <td>4</td>\n",
       "      <td>laylak_toronto</td>\n",
       "      <td>NaN</td>\n",
       "      <td>Cold Dips</td>\n",
       "      <td>Trio</td>\n",
       "      <td>Choice of 3 dips</td>\n",
       "      <td>22</td>\n",
       "      <td>NaN</td>\n",
       "      <td>NaN</td>\n",
       "      <td>NaN</td>\n",
       "      <td>['combination of hummus', 'baba ghanoush', 'an...</td>\n",
       "      <td>combination of hummus, baba ghanoush, and moha...</td>\n",
       "    </tr>\n",
       "  </tbody>\n",
       "</table>\n",
       "</div>"
      ],
      "text/plain": [
       "   Unnamed: 0   restaurant_id menu_type    section        menu_item  \\\n",
       "0           0  laylak_toronto       NaN  Cold Dips           Hummus   \n",
       "1           1  laylak_toronto       NaN  Cold Dips    Baba Ghanoush   \n",
       "2           2  laylak_toronto       NaN  Cold Dips        Mohamarah   \n",
       "3           3  laylak_toronto       NaN  Cold Dips  Labneh Bel Toum   \n",
       "4           4  laylak_toronto       NaN  Cold Dips             Trio   \n",
       "\n",
       "                                      description price dietary_prefences  \\\n",
       "0                           Chickpea tahini lemon    17               NaN   \n",
       "1              Fire roasted eggplant tahini lemon    17               NaN   \n",
       "2  Fire roasted red pepper, Aleppo pepper, walnut    17               NaN   \n",
       "3                     Strained yogurt mint garlic    17               NaN   \n",
       "4                                Choice of 3 dips    22               NaN   \n",
       "\n",
       "  source image_name                                        ingredients  \\\n",
       "0    NaN        NaN  ['chickpeas', 'tahini', 'lemon juice', 'olive ...   \n",
       "1    NaN        NaN  ['eggplant', 'tahini', 'lemon juice', 'olive o...   \n",
       "2    NaN        NaN  ['roasted red peppers', 'aleppo pepper', 'waln...   \n",
       "3    NaN        NaN  ['strained yogurt labneh', 'fresh mint', 'garl...   \n",
       "4    NaN        NaN  ['combination of hummus', 'baba ghanoush', 'an...   \n",
       "\n",
       "                                  ingredients_mapped  \n",
       "0  chickpea, tahini, lemon_juice, olive_oil, garl...  \n",
       "1  eggplant, tahini, lemon_juice, olive_oil, garl...  \n",
       "2  roasted_red_pepper, aleppo_pepper, walnut, bre...  \n",
       "3  strained yogurt labneh, of_fresh_mint, garlic,...  \n",
       "4  combination of hummus, baba ghanoush, and moha...  "
      ]
     },
     "execution_count": 34,
     "metadata": {},
     "output_type": "execute_result"
    }
   ],
   "source": [
    "df_cleaned = pd.read_csv('new_menu.csv')\n",
    "df_cleaned.head(5)"
   ]
  },
  {
   "cell_type": "code",
   "execution_count": 35,
   "metadata": {
    "id": "zUVSutHpUAVX"
   },
   "outputs": [],
   "source": [
    "# load dataframe of node_ids and ingredients\n",
    "id_ing_df = pd.read_csv('new_nodes.csv')"
   ]
  },
  {
   "cell_type": "code",
   "execution_count": 36,
   "metadata": {
    "id": "pkZMkxacUASt"
   },
   "outputs": [],
   "source": [
    "# open and load data from pickle file\n",
    "file = open('FlavorGraph Node Embedding.pickle', 'rb')\n",
    "\n",
    "# keys are strings for node_id, value is embedding\n",
    "data = pickle.load(file)\n",
    "\n",
    "file.close()\n"
   ]
  },
  {
   "cell_type": "markdown",
   "metadata": {},
   "source": [
    "# Preparing Embedding"
   ]
  },
  {
   "cell_type": "code",
   "execution_count": 37,
   "metadata": {
    "id": "xxnjSslmzXJU"
   },
   "outputs": [],
   "source": [
    "# getting the embeddings for ingredients\n",
    "ing_embeddings = {}\n",
    "\n",
    "for i in range(len(id_ing_df)):\n",
    "    if id_ing_df.loc[i, 'node_type'] == \"ingredient\":\n",
    "        # map the name of the ingredient to the embedding\n",
    "        ing_embeddings[id_ing_df.loc[i, 'name']] = data[str(id_ing_df.loc[i, 'node_id'])]"
   ]
  },
  {
   "cell_type": "code",
   "execution_count": 38,
   "metadata": {
    "id": "ZMpjvWcpChkx"
   },
   "outputs": [],
   "source": [
    "def get_embeddings_only(ingredient_string):\n",
    "    # Split the string into individual ingredients and strip any extra spaces\n",
    "    ing_list = [ing.strip() for ing in ingredient_string.split(',')]\n",
    "\n",
    "    emb_list = []\n",
    "\n",
    "    for ing in ing_list:\n",
    "        emb = ing_embeddings.get(ing, [])\n",
    "\n",
    "        if len(emb) != 0:\n",
    "            emb_list.append(emb)\n",
    "\n",
    "    return emb_list\n"
   ]
  },
  {
   "cell_type": "code",
   "execution_count": 39,
   "metadata": {
    "id": "BgUriQ3WChiv"
   },
   "outputs": [],
   "source": [
    "def get_missing_ingredients(ingredient_string):\n",
    "    # Check if the input is null or not a string\n",
    "    if not isinstance(ingredient_string, str) or pd.isnull(ingredient_string):\n",
    "        return None\n",
    "\n",
    "    # Split the string into individual ingredients and strip any extra spaces\n",
    "    ing_list = [ing.strip() for ing in ingredient_string.split(',')]\n",
    "\n",
    "    missing_ingredients = []\n",
    "\n",
    "    for ing in ing_list:\n",
    "        emb = ing_embeddings.get(ing, [])\n",
    "\n",
    "        if len(emb) == 0:\n",
    "            missing_ingredients.append(ing)\n",
    "\n",
    "    # Return missing ingredients or None if there are none\n",
    "    return missing_ingredients if missing_ingredients else None"
   ]
  },
  {
   "cell_type": "markdown",
   "metadata": {},
   "source": [
    "# Embdding datasets"
   ]
  },
  {
   "cell_type": "code",
   "execution_count": 40,
   "metadata": {
    "id": "QCoUO3cIChg2"
   },
   "outputs": [],
   "source": [
    "# For menu_data\n",
    "\n",
    "df_cleaned['Embeddings'] = df_cleaned['ingredients_mapped'].apply(get_embeddings_only)\n",
    "\n",
    "df_cleaned['Missing_Ingredients'] = df_cleaned['ingredients_mapped'].apply(get_missing_ingredients)\n"
   ]
  },
  {
   "cell_type": "code",
   "execution_count": 41,
   "metadata": {},
   "outputs": [],
   "source": [
    "# For flavor\n",
    "\n",
    "flavor_df = pd.read_csv('new_flavorgraph_df.csv')\n",
    "\n",
    "flavor_df['Embeddings'] = flavor_df['ingredients_mapped'].apply(get_embeddings_only)\n",
    "\n",
    "flavor_df['Missing_Ingredients'] = flavor_df['ingredients_mapped'].apply(get_missing_ingredients)"
   ]
  },
  {
   "cell_type": "code",
   "execution_count": 42,
   "metadata": {},
   "outputs": [],
   "source": [
    "# For cuisine\n",
    "\n",
    "cuisine_df = pd.read_csv('new_cuisine_df.csv')\n",
    "\n",
    "cuisine_df['Embeddings'] = flavor_df['ingredients_mapped'].apply(get_embeddings_only)\n",
    "\n",
    "cuisine_df['Missing_Ingredients'] = flavor_df['ingredients_mapped'].apply(get_missing_ingredients)"
   ]
  },
  {
   "cell_type": "code",
   "execution_count": 43,
   "metadata": {},
   "outputs": [
    {
     "data": {
      "text/html": [
       "<div>\n",
       "<style scoped>\n",
       "    .dataframe tbody tr th:only-of-type {\n",
       "        vertical-align: middle;\n",
       "    }\n",
       "\n",
       "    .dataframe tbody tr th {\n",
       "        vertical-align: top;\n",
       "    }\n",
       "\n",
       "    .dataframe thead th {\n",
       "        text-align: right;\n",
       "    }\n",
       "</style>\n",
       "<table border=\"1\" class=\"dataframe\">\n",
       "  <thead>\n",
       "    <tr style=\"text-align: right;\">\n",
       "      <th></th>\n",
       "      <th>Unnamed: 0</th>\n",
       "      <th>flavour</th>\n",
       "      <th>ingredients</th>\n",
       "      <th>ingredients_mapped</th>\n",
       "      <th>Embeddings</th>\n",
       "      <th>Missing_Ingredients</th>\n",
       "    </tr>\n",
       "  </thead>\n",
       "  <tbody>\n",
       "    <tr>\n",
       "      <th>0</th>\n",
       "      <td>0</td>\n",
       "      <td>Cajun</td>\n",
       "      <td>['roux', 'spice', 'onions', 'celery', 'peppers...</td>\n",
       "      <td>roux, spice, onion, celery, pepper, garlic, ca...</td>\n",
       "      <td>[[-0.23929013, 0.0592715, -0.09344146, 0.26480...</td>\n",
       "      <td>None</td>\n",
       "    </tr>\n",
       "    <tr>\n",
       "      <th>1</th>\n",
       "      <td>1</td>\n",
       "      <td>Creole</td>\n",
       "      <td>['roux', 'spice', 'onions', 'celery', 'peppers...</td>\n",
       "      <td>roux, spice, onion, celery, pepper, garlic, ca...</td>\n",
       "      <td>[[0.030734919, 0.05719392, -0.38024616, 0.3099...</td>\n",
       "      <td>None</td>\n",
       "    </tr>\n",
       "    <tr>\n",
       "      <th>2</th>\n",
       "      <td>2</td>\n",
       "      <td>Caribbean</td>\n",
       "      <td>['allspice', 'peppers', 'garlic', 'rum', 'jerk...</td>\n",
       "      <td>allspice, pepper, garlic, rum, jerk, corn, pla...</td>\n",
       "      <td>[[0.11249744, -0.28831434, 0.16757697, 0.18586...</td>\n",
       "      <td>None</td>\n",
       "    </tr>\n",
       "    <tr>\n",
       "      <th>3</th>\n",
       "      <td>3</td>\n",
       "      <td>Chinese</td>\n",
       "      <td>['soy', 'oil', 'sesame', 'garlic', 'ginger', '...</td>\n",
       "      <td>shoyu, oil, sesame, garlic, ginger, chestnut, ...</td>\n",
       "      <td>[[-0.2989276, 0.105471276, -0.069953315, 0.046...</td>\n",
       "      <td>None</td>\n",
       "    </tr>\n",
       "    <tr>\n",
       "      <th>4</th>\n",
       "      <td>4</td>\n",
       "      <td>French</td>\n",
       "      <td>['butter', 'shallots', 'onions', 'celery', 'ca...</td>\n",
       "      <td>butter, shallot, onion, celery, carrot, thyme,...</td>\n",
       "      <td>[[-0.110827886, 0.017259488, 0.028557366, 0.02...</td>\n",
       "      <td>None</td>\n",
       "    </tr>\n",
       "  </tbody>\n",
       "</table>\n",
       "</div>"
      ],
      "text/plain": [
       "   Unnamed: 0    flavour                                        ingredients  \\\n",
       "0           0      Cajun  ['roux', 'spice', 'onions', 'celery', 'peppers...   \n",
       "1           1     Creole  ['roux', 'spice', 'onions', 'celery', 'peppers...   \n",
       "2           2  Caribbean  ['allspice', 'peppers', 'garlic', 'rum', 'jerk...   \n",
       "3           3    Chinese  ['soy', 'oil', 'sesame', 'garlic', 'ginger', '...   \n",
       "4           4     French  ['butter', 'shallots', 'onions', 'celery', 'ca...   \n",
       "\n",
       "                                  ingredients_mapped  \\\n",
       "0  roux, spice, onion, celery, pepper, garlic, ca...   \n",
       "1  roux, spice, onion, celery, pepper, garlic, ca...   \n",
       "2  allspice, pepper, garlic, rum, jerk, corn, pla...   \n",
       "3  shoyu, oil, sesame, garlic, ginger, chestnut, ...   \n",
       "4  butter, shallot, onion, celery, carrot, thyme,...   \n",
       "\n",
       "                                          Embeddings Missing_Ingredients  \n",
       "0  [[-0.23929013, 0.0592715, -0.09344146, 0.26480...                None  \n",
       "1  [[0.030734919, 0.05719392, -0.38024616, 0.3099...                None  \n",
       "2  [[0.11249744, -0.28831434, 0.16757697, 0.18586...                None  \n",
       "3  [[-0.2989276, 0.105471276, -0.069953315, 0.046...                None  \n",
       "4  [[-0.110827886, 0.017259488, 0.028557366, 0.02...                None  "
      ]
     },
     "execution_count": 43,
     "metadata": {},
     "output_type": "execute_result"
    }
   ],
   "source": [
    "cuisine_df.head()"
   ]
  },
  {
   "cell_type": "code",
   "execution_count": 44,
   "metadata": {},
   "outputs": [
    {
     "data": {
      "text/html": [
       "<div>\n",
       "<style scoped>\n",
       "    .dataframe tbody tr th:only-of-type {\n",
       "        vertical-align: middle;\n",
       "    }\n",
       "\n",
       "    .dataframe tbody tr th {\n",
       "        vertical-align: top;\n",
       "    }\n",
       "\n",
       "    .dataframe thead th {\n",
       "        text-align: right;\n",
       "    }\n",
       "</style>\n",
       "<table border=\"1\" class=\"dataframe\">\n",
       "  <thead>\n",
       "    <tr style=\"text-align: right;\">\n",
       "      <th></th>\n",
       "      <th>Unnamed: 0</th>\n",
       "      <th>Element</th>\n",
       "      <th>Ingredients</th>\n",
       "      <th>ingredients_mapped</th>\n",
       "      <th>Embeddings</th>\n",
       "      <th>Missing_Ingredients</th>\n",
       "    </tr>\n",
       "  </thead>\n",
       "  <tbody>\n",
       "    <tr>\n",
       "      <th>0</th>\n",
       "      <td>0</td>\n",
       "      <td>Sour</td>\n",
       "      <td>['lemon', 'lime', 'orange', 'vinegar', 'tomato...</td>\n",
       "      <td>lemon, lime, orange, vinegar, tomato, pickle, ...</td>\n",
       "      <td>[[-0.23929013, 0.0592715, -0.09344146, 0.26480...</td>\n",
       "      <td>None</td>\n",
       "    </tr>\n",
       "    <tr>\n",
       "      <th>1</th>\n",
       "      <td>1</td>\n",
       "      <td>Sweet</td>\n",
       "      <td>['carrots', 'sweetpotatoes', 'corn', 'butternu...</td>\n",
       "      <td>carrot, sweet_potato, corn, butter, sugar, fen...</td>\n",
       "      <td>[[0.030734919, 0.05719392, -0.38024616, 0.3099...</td>\n",
       "      <td>None</td>\n",
       "    </tr>\n",
       "    <tr>\n",
       "      <th>2</th>\n",
       "      <td>2</td>\n",
       "      <td>Salty</td>\n",
       "      <td>['kosher', 'sea', 'fishsauce', 'soy', 'seaweed...</td>\n",
       "      <td>kosher_salt, steak, fish_sauce, shoyu, seed, p...</td>\n",
       "      <td>[[0.11249744, -0.28831434, 0.16757697, 0.18586...</td>\n",
       "      <td>None</td>\n",
       "    </tr>\n",
       "    <tr>\n",
       "      <th>3</th>\n",
       "      <td>3</td>\n",
       "      <td>Spicy</td>\n",
       "      <td>['hotsauce', 'wasabi', 'horseradish', 'dijon',...</td>\n",
       "      <td>hot_sauce, wasabi, horseradish, onion, harissa...</td>\n",
       "      <td>[[-0.2989276, 0.105471276, -0.069953315, 0.046...</td>\n",
       "      <td>None</td>\n",
       "    </tr>\n",
       "    <tr>\n",
       "      <th>4</th>\n",
       "      <td>4</td>\n",
       "      <td>Umami</td>\n",
       "      <td>['mushrooms', 'bacon', 'meats', 'soy', 'tomato...</td>\n",
       "      <td>mushroom, bacon, meat, shoyu, tomato, anchovy,...</td>\n",
       "      <td>[[-0.110827886, 0.017259488, 0.028557366, 0.02...</td>\n",
       "      <td>None</td>\n",
       "    </tr>\n",
       "  </tbody>\n",
       "</table>\n",
       "</div>"
      ],
      "text/plain": [
       "   Unnamed: 0 Element                                        Ingredients  \\\n",
       "0           0    Sour  ['lemon', 'lime', 'orange', 'vinegar', 'tomato...   \n",
       "1           1   Sweet  ['carrots', 'sweetpotatoes', 'corn', 'butternu...   \n",
       "2           2   Salty  ['kosher', 'sea', 'fishsauce', 'soy', 'seaweed...   \n",
       "3           3   Spicy  ['hotsauce', 'wasabi', 'horseradish', 'dijon',...   \n",
       "4           4   Umami  ['mushrooms', 'bacon', 'meats', 'soy', 'tomato...   \n",
       "\n",
       "                                  ingredients_mapped  \\\n",
       "0  lemon, lime, orange, vinegar, tomato, pickle, ...   \n",
       "1  carrot, sweet_potato, corn, butter, sugar, fen...   \n",
       "2  kosher_salt, steak, fish_sauce, shoyu, seed, p...   \n",
       "3  hot_sauce, wasabi, horseradish, onion, harissa...   \n",
       "4  mushroom, bacon, meat, shoyu, tomato, anchovy,...   \n",
       "\n",
       "                                          Embeddings Missing_Ingredients  \n",
       "0  [[-0.23929013, 0.0592715, -0.09344146, 0.26480...                None  \n",
       "1  [[0.030734919, 0.05719392, -0.38024616, 0.3099...                None  \n",
       "2  [[0.11249744, -0.28831434, 0.16757697, 0.18586...                None  \n",
       "3  [[-0.2989276, 0.105471276, -0.069953315, 0.046...                None  \n",
       "4  [[-0.110827886, 0.017259488, 0.028557366, 0.02...                None  "
      ]
     },
     "execution_count": 44,
     "metadata": {},
     "output_type": "execute_result"
    }
   ],
   "source": [
    "flavor_df.head()"
   ]
  },
  {
   "cell_type": "code",
   "execution_count": 45,
   "metadata": {},
   "outputs": [],
   "source": [
    "# Save\n",
    "#df_cleaned[['ingredients_mapped', 'Missing_Ingredients']].to_csv('Flavor_embeded.csv')"
   ]
  },
  {
   "cell_type": "code",
   "execution_count": 46,
   "metadata": {
    "colab": {
     "base_uri": "https://localhost:8080/",
     "height": 423
    },
    "id": "6ohdWJLbCheR",
    "outputId": "7f46c5fe-3462-4e1a-8c98-2e725c703702",
    "scrolled": true
   },
   "outputs": [
    {
     "data": {
      "text/html": [
       "<div>\n",
       "<style scoped>\n",
       "    .dataframe tbody tr th:only-of-type {\n",
       "        vertical-align: middle;\n",
       "    }\n",
       "\n",
       "    .dataframe tbody tr th {\n",
       "        vertical-align: top;\n",
       "    }\n",
       "\n",
       "    .dataframe thead th {\n",
       "        text-align: right;\n",
       "    }\n",
       "</style>\n",
       "<table border=\"1\" class=\"dataframe\">\n",
       "  <thead>\n",
       "    <tr style=\"text-align: right;\">\n",
       "      <th></th>\n",
       "      <th>Unnamed: 0</th>\n",
       "      <th>restaurant_id</th>\n",
       "      <th>menu_type</th>\n",
       "      <th>section</th>\n",
       "      <th>menu_item</th>\n",
       "      <th>description</th>\n",
       "      <th>price</th>\n",
       "      <th>dietary_prefences</th>\n",
       "      <th>source</th>\n",
       "      <th>image_name</th>\n",
       "      <th>ingredients</th>\n",
       "      <th>ingredients_mapped</th>\n",
       "      <th>Embeddings</th>\n",
       "      <th>Missing_Ingredients</th>\n",
       "    </tr>\n",
       "  </thead>\n",
       "  <tbody>\n",
       "    <tr>\n",
       "      <th>0</th>\n",
       "      <td>0</td>\n",
       "      <td>laylak_toronto</td>\n",
       "      <td>NaN</td>\n",
       "      <td>Cold Dips</td>\n",
       "      <td>Hummus</td>\n",
       "      <td>Chickpea tahini lemon</td>\n",
       "      <td>17</td>\n",
       "      <td>NaN</td>\n",
       "      <td>NaN</td>\n",
       "      <td>NaN</td>\n",
       "      <td>['chickpeas', 'tahini', 'lemon juice', 'olive ...</td>\n",
       "      <td>chickpea, tahini, lemon_juice, olive_oil, garl...</td>\n",
       "      <td>[[0.0121464785, 0.18054625, -0.07192151, -0.19...</td>\n",
       "      <td>None</td>\n",
       "    </tr>\n",
       "    <tr>\n",
       "      <th>1</th>\n",
       "      <td>1</td>\n",
       "      <td>laylak_toronto</td>\n",
       "      <td>NaN</td>\n",
       "      <td>Cold Dips</td>\n",
       "      <td>Baba Ghanoush</td>\n",
       "      <td>Fire roasted eggplant tahini lemon</td>\n",
       "      <td>17</td>\n",
       "      <td>NaN</td>\n",
       "      <td>NaN</td>\n",
       "      <td>NaN</td>\n",
       "      <td>['eggplant', 'tahini', 'lemon juice', 'olive o...</td>\n",
       "      <td>eggplant, tahini, lemon_juice, olive_oil, garl...</td>\n",
       "      <td>[[0.20060113, 0.15472414, -0.32121348, -0.0977...</td>\n",
       "      <td>None</td>\n",
       "    </tr>\n",
       "    <tr>\n",
       "      <th>2</th>\n",
       "      <td>2</td>\n",
       "      <td>laylak_toronto</td>\n",
       "      <td>NaN</td>\n",
       "      <td>Cold Dips</td>\n",
       "      <td>Mohamarah</td>\n",
       "      <td>Fire roasted red pepper, Aleppo pepper, walnut</td>\n",
       "      <td>17</td>\n",
       "      <td>NaN</td>\n",
       "      <td>NaN</td>\n",
       "      <td>NaN</td>\n",
       "      <td>['roasted red peppers', 'aleppo pepper', 'waln...</td>\n",
       "      <td>roasted_red_pepper, aleppo_pepper, walnut, bre...</td>\n",
       "      <td>[[-0.3076723, -0.08307011, -0.14726506, 0.1041...</td>\n",
       "      <td>None</td>\n",
       "    </tr>\n",
       "    <tr>\n",
       "      <th>3</th>\n",
       "      <td>3</td>\n",
       "      <td>laylak_toronto</td>\n",
       "      <td>NaN</td>\n",
       "      <td>Cold Dips</td>\n",
       "      <td>Labneh Bel Toum</td>\n",
       "      <td>Strained yogurt mint garlic</td>\n",
       "      <td>17</td>\n",
       "      <td>NaN</td>\n",
       "      <td>NaN</td>\n",
       "      <td>NaN</td>\n",
       "      <td>['strained yogurt labneh', 'fresh mint', 'garl...</td>\n",
       "      <td>strained yogurt labneh, of_fresh_mint, garlic,...</td>\n",
       "      <td>[[-0.3328095, -0.124348424, 0.04044519, -0.085...</td>\n",
       "      <td>[strained yogurt labneh]</td>\n",
       "    </tr>\n",
       "    <tr>\n",
       "      <th>4</th>\n",
       "      <td>4</td>\n",
       "      <td>laylak_toronto</td>\n",
       "      <td>NaN</td>\n",
       "      <td>Cold Dips</td>\n",
       "      <td>Trio</td>\n",
       "      <td>Choice of 3 dips</td>\n",
       "      <td>22</td>\n",
       "      <td>NaN</td>\n",
       "      <td>NaN</td>\n",
       "      <td>NaN</td>\n",
       "      <td>['combination of hummus', 'baba ghanoush', 'an...</td>\n",
       "      <td>combination of hummus, baba ghanoush, and moha...</td>\n",
       "      <td>[]</td>\n",
       "      <td>[combination of hummus, baba ghanoush, and moh...</td>\n",
       "    </tr>\n",
       "  </tbody>\n",
       "</table>\n",
       "</div>"
      ],
      "text/plain": [
       "   Unnamed: 0   restaurant_id menu_type    section        menu_item  \\\n",
       "0           0  laylak_toronto       NaN  Cold Dips           Hummus   \n",
       "1           1  laylak_toronto       NaN  Cold Dips    Baba Ghanoush   \n",
       "2           2  laylak_toronto       NaN  Cold Dips        Mohamarah   \n",
       "3           3  laylak_toronto       NaN  Cold Dips  Labneh Bel Toum   \n",
       "4           4  laylak_toronto       NaN  Cold Dips             Trio   \n",
       "\n",
       "                                      description price dietary_prefences  \\\n",
       "0                           Chickpea tahini lemon    17               NaN   \n",
       "1              Fire roasted eggplant tahini lemon    17               NaN   \n",
       "2  Fire roasted red pepper, Aleppo pepper, walnut    17               NaN   \n",
       "3                     Strained yogurt mint garlic    17               NaN   \n",
       "4                                Choice of 3 dips    22               NaN   \n",
       "\n",
       "  source image_name                                        ingredients  \\\n",
       "0    NaN        NaN  ['chickpeas', 'tahini', 'lemon juice', 'olive ...   \n",
       "1    NaN        NaN  ['eggplant', 'tahini', 'lemon juice', 'olive o...   \n",
       "2    NaN        NaN  ['roasted red peppers', 'aleppo pepper', 'waln...   \n",
       "3    NaN        NaN  ['strained yogurt labneh', 'fresh mint', 'garl...   \n",
       "4    NaN        NaN  ['combination of hummus', 'baba ghanoush', 'an...   \n",
       "\n",
       "                                  ingredients_mapped  \\\n",
       "0  chickpea, tahini, lemon_juice, olive_oil, garl...   \n",
       "1  eggplant, tahini, lemon_juice, olive_oil, garl...   \n",
       "2  roasted_red_pepper, aleppo_pepper, walnut, bre...   \n",
       "3  strained yogurt labneh, of_fresh_mint, garlic,...   \n",
       "4  combination of hummus, baba ghanoush, and moha...   \n",
       "\n",
       "                                          Embeddings  \\\n",
       "0  [[0.0121464785, 0.18054625, -0.07192151, -0.19...   \n",
       "1  [[0.20060113, 0.15472414, -0.32121348, -0.0977...   \n",
       "2  [[-0.3076723, -0.08307011, -0.14726506, 0.1041...   \n",
       "3  [[-0.3328095, -0.124348424, 0.04044519, -0.085...   \n",
       "4                                                 []   \n",
       "\n",
       "                                 Missing_Ingredients  \n",
       "0                                               None  \n",
       "1                                               None  \n",
       "2                                               None  \n",
       "3                           [strained yogurt labneh]  \n",
       "4  [combination of hummus, baba ghanoush, and moh...  "
      ]
     },
     "execution_count": 46,
     "metadata": {},
     "output_type": "execute_result"
    }
   ],
   "source": [
    "df_cleaned.head()"
   ]
  },
  {
   "cell_type": "code",
   "execution_count": 47,
   "metadata": {},
   "outputs": [
    {
     "data": {
      "text/plain": [
       "160"
      ]
     },
     "execution_count": 47,
     "metadata": {},
     "output_type": "execute_result"
    }
   ],
   "source": [
    "sum(df_cleaned['Missing_Ingredients'].notna())"
   ]
  },
  {
   "cell_type": "code",
   "execution_count": 48,
   "metadata": {
    "id": "9GtrMI9gLAx-"
   },
   "outputs": [],
   "source": [
    "#df_cleaned[['Ingredients','Embeddings']].to_pickle('Ingredients_Only_Cleaned_Embeddings.pkl')"
   ]
  },
  {
   "cell_type": "code",
   "execution_count": 49,
   "metadata": {
    "id": "Cdb3vCV2Ebv0"
   },
   "outputs": [],
   "source": [
    "df_cleaned[['ingredients', 'ingredients_mapped', 'Missing_Ingredients']].to_csv('Missing_Ingredients3.csv', index=False)"
   ]
  }
 ],
 "metadata": {
  "accelerator": "GPU",
  "colab": {
   "gpuType": "T4",
   "provenance": []
  },
  "kernelspec": {
   "display_name": "Python 3 (ipykernel)",
   "language": "python",
   "name": "python3"
  },
  "language_info": {
   "codemirror_mode": {
    "name": "ipython",
    "version": 3
   },
   "file_extension": ".py",
   "mimetype": "text/x-python",
   "name": "python",
   "nbconvert_exporter": "python",
   "pygments_lexer": "ipython3",
   "version": "3.12.7"
  }
 },
 "nbformat": 4,
 "nbformat_minor": 4
}
